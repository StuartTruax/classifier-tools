{
 "cells": [
  {
   "cell_type": "markdown",
   "metadata": {},
   "source": [
    "# Logistic Regression"
   ]
  },
  {
   "cell_type": "markdown",
   "metadata": {},
   "source": [
    "Binary classification using logistic regression."
   ]
  },
  {
   "cell_type": "markdown",
   "metadata": {},
   "source": [
    "### Theory\n",
    "\n",
    "The goal is to estimate some Bernoulli target variable $y$ based on some predictor variables $\\mathbf{x}$. The theory of logistic regression begins with the definition of the _odds ratio_ (i.e. odds in favor of a particular event occuring):\n",
    "\n",
    "$$\\frac{p}{1-p}$$\n",
    "\n",
    "where $p$ is the probability of the event occurring. In this context, the event is the Bernoulli target variable $y$ being true (i.e. $y=1$). Subsequently, the _logit function_ can be defined:\n",
    "\n",
    "$$logit(p) = log \\frac{p}{1-p}$$\n",
    "\n",
    "The logit function serves to map the probability $p$ from $[0,1]$ to $\\mathbb{R}$. Moreover, it takes the rational function $\\frac{p}{1-p}$ and transforms it into a linear function of the log probability via:\n",
    "\n",
    "$$logit(p) = log \\frac{p}{1-p} = log(p)-log(1-p)$$\n",
    "\n",
    "The linearity of $logit(p)$ in terms of the log-probabilities allows it to be approximated by another linear function. This other approximating linear function can be a function of the predictor variables $\\mathbf{x}$, namely:\n",
    "\n",
    "$$logit(p) = \\sum^{m}_{i=0}{w_i x_i} = \\mathbf{w^{T}}\\mathbf{x}$$\n",
    "\n",
    "where $m$ is the dimension  of predictor variable $\\mathbf{x}$. This can also be expressed as: \n",
    "\n",
    "$$logit(p(y=1 | \\mathbf{x})) = \\mathbf{w^{T}}\\mathbf{x}$$\n",
    "\n",
    "Now let's define:\n",
    "\n",
    "$$z = \\mathbf{w^{T}}\\mathbf{x}$$\n",
    "\n",
    "The final transformation is to compose the logit function with the sigmoid function to compress the range back to $[0,1]$ while having a domain of $\\mathbb{R}$ for the predictor variables. \n",
    "\n",
    "$$\\boxed{ \\phi(z) = \\frac{1}{1+e^{-z}}}$$\n",
    "\n",
    "At this point, one has a function $\\phi:\\mathbb{R}^{n} \\to [0,1]$ which allows a domain of $\\mathbb{R}^{n}$ for the predictor variables $\\mathbf{x}$ and a range of $[0,1]$ for the Bernoulli target variable $y$. To ensure that $\\widehat{y}$ _only_ takes values of 0 or 1, the output of the sigmoid is \"rectified\" according to:\n",
    "\n",
    "$$\\widehat{y} = \n",
    "\\begin{cases}\n",
    "      1, & \\text{if}\\ \\phi (z)\\geq 0.5 \\\\\n",
    "      0, & \\text{otherwise}\n",
    "    \\end{cases}\n",
    "$$\n",
    "\n",
    "\n",
    "The sigmoid function is plotted below for illustration. "
   ]
  },
  {
   "cell_type": "code",
   "execution_count": 3,
   "metadata": {},
   "outputs": [
    {
     "data": {
      "text/plain": [
       "[<matplotlib.lines.Line2D at 0x115fe2250>]"
      ]
     },
     "execution_count": 3,
     "metadata": {},
     "output_type": "execute_result"
    },
    {
     "data": {
      "image/png": "[encoded data removed]",
      "text/plain": [
       "<Figure size 432x288 with 1 Axes>"
      ]
     },
     "metadata": {},
     "output_type": "display_data"
    }
   ],
   "source": [
    "import numpy as np\n",
    "import matplotlib.pyplot as plt\n",
    "\n",
    "#define the sigmoid function\n",
    "def sigmoid(z):\n",
    "    return 1.0/(1.0 + np.exp(-z))\n",
    "\n",
    "\n",
    "z = np.arange(-7,7,0.1)\n",
    "\n",
    "phi_z = sigmoid(z)\n",
    "plt.plot(z,phi_z)"
   ]
  },
  {
   "cell_type": "markdown",
   "metadata": {},
   "source": [
    "### Loss Function\n",
    "\n",
    "Define the likelihood function for the logistic classifier as the following:\n",
    "\n",
    "$$L(\\mathbf{w}) = P(\\mathbf{y} | \\mathbf{x}; \\mathbf{w}) = \\prod_{i=1}^{n} P(y^{(i)} | x^{(i)}; \\mathbf{w}) = (\\phi(z^{(i)}))^{y^{(i)}}(1-\\phi(z^{(i)}))^{1-y^{(i)}}$$\n",
    "\n",
    "where $n$ is the number of labelled samples in the dataset and $i$ is an index over the samples. Rember that $y^{(i)}$ is Bernoulli, so the $y^{(i)}$ exponents only serve to \"switch\" either term \"on\" or \"off\" in the RHS product. \n",
    "\n",
    "Maximization of a likelihood function is easier done on a log-likelihood, which in this case is the following:\n",
    "\n",
    "$$l(\\mathbf{w}) = log L(\\mathbf{w}) = \\sum_{i=1}^{n}(log(\\phi(z^{(i)})) +(1-y^{(i)})log(1-\\phi(z^{(i)})) )$$\n",
    "\n",
    "To apply gradient descent by finding a minimum of a function, take the negative of the log-likelihood to obtain the final loss function $J$:\n",
    "\n",
    "$$\\boxed{J(\\mathbf{w}) = -\\sum_{i=1}^{n}(log(\\phi(z^{(i)})) +(1-y^{(i)})log(1-\\phi(z^{(i)})) )}$$\n",
    "\n",
    "\n",
    "Remember that gradient descent on a loss function $J(\\mathbf{w})$ has the following update rule for the weights:\n",
    "\n",
    "$$\\mathbf{w} = \\mathbf{w} + \\Delta \\mathbf{w}$$\n",
    "\n",
    "where:\n",
    "\n",
    "$$\\Delta \\mathbf{w} = -\\eta J(\\mathbf{w})$$\n",
    "\n",
    "where $\\eta$ is the learning rate. \n"
   ]
  },
  {
   "cell_type": "markdown",
   "metadata": {},
   "source": [
    "### Plotting Utilities"
   ]
  },
  {
   "cell_type": "code",
   "execution_count": 9,
   "metadata": {},
   "outputs": [],
   "source": [
    "from matplotlib.colors import ListedColormap\n",
    "import matplotlib.pyplot as plt\n",
    "\n",
    "def plot_decision_regions(X, y, classifier,test_idx=None, resolution=0.02):\n",
    "    markers = ('s', 'x', 'o', '^', 'v')\n",
    "    colors = ('red', 'blue', 'lightgreen', 'gray', 'cyan')\n",
    "    cmap = ListedColormap(colors[:len(np.unique(y))])\n",
    "\n",
    "       # plot the decision surface\n",
    "    x1_min, x1_max = X[:, 0].min() - 1, X[:, 0].max() + 1\n",
    "    x2_min, x2_max = X[:, 1].min() - 1, X[:, 1].max() + 1\n",
    "    xx1, xx2 = np.meshgrid(np.arange(x1_min, x1_max, resolution),np.arange(x2_min, x2_max, resolution))\n",
    "    Z = classifier.predict(np.array([xx1.ravel(), xx2.ravel()]).T)\n",
    "    Z = Z.reshape(xx1.shape)\n",
    "    plt.contourf(xx1, xx2, Z, alpha=0.4, cmap=cmap)\n",
    "    plt.xlim(xx1.min(), xx1.max())\n",
    "    plt.ylim(xx2.min(), xx2.max())\n",
    "       # plot all samples\n",
    "    X_test, y_test = X[test_idx, :], y[test_idx]\n",
    "    for idx, cl in enumerate(np.unique(y)):\n",
    "        plt.scatter(x=X[y == cl, 0], y=X[y == cl, 1],alpha=0.8, c=cmap(idx),marker=markers[idx], label=cl)\n",
    "\n",
    "    if test_idx:\n",
    "        X_test, y_test = X[test_idx, :], y[test_idx]\n",
    "        plt.scatter(X_test[:, 0], X_test[:, 1], c='',alpha=1.0, linewidth=1, marker='o',s=55, label='test set')"
   ]
  },
  {
   "cell_type": "markdown",
   "metadata": {},
   "source": [
    "### Data Import\n",
    "\n",
    "`iris` dataset from `scikit-learn`"
   ]
  },
  {
   "cell_type": "code",
   "execution_count": 10,
   "metadata": {},
   "outputs": [],
   "source": [
    "from sklearn import datasets\n",
    "import numpy as np\n",
    "iris = datasets.load_iris()\n",
    "X = iris.data[:, [2, 3]]\n",
    "y = iris.target\n"
   ]
  },
  {
   "cell_type": "markdown",
   "metadata": {},
   "source": [
    "### Cross-validation Dataset Splitting"
   ]
  },
  {
   "cell_type": "code",
   "execution_count": 11,
   "metadata": {},
   "outputs": [],
   "source": [
    "from sklearn.model_selection import train_test_split\n",
    "X_train, X_test, y_train, y_test = train_test_split(X, y, test_size=0.3, random_state=0)"
   ]
  },
  {
   "cell_type": "markdown",
   "metadata": {},
   "source": [
    "### Preprocessing\n",
    "\n",
    "Apply __standardization__ to give the predictor variables $\\mathbf{X}$ a standard normal distribution. "
   ]
  },
  {
   "cell_type": "code",
   "execution_count": 12,
   "metadata": {},
   "outputs": [],
   "source": [
    "from sklearn.preprocessing import StandardScaler\n",
    "sc = StandardScaler()\n",
    "sc.fit(X_train)\n",
    "X_train_std = sc.transform(X_train)\n",
    "X_test_std = sc.transform(X_test)"
   ]
  },
  {
   "cell_type": "markdown",
   "metadata": {},
   "source": [
    "### Classification"
   ]
  },
  {
   "cell_type": "code",
   "execution_count": 13,
   "metadata": {},
   "outputs": [
    {
     "data": {
      "image/png": "[encoded data removed]",
      "text/plain": [
       "<Figure size 432x288 with 1 Axes>"
      ]
     },
     "metadata": {},
     "output_type": "display_data"
    }
   ],
   "source": [
    "from sklearn.linear_model import LogisticRegression\n",
    "\n",
    "lr = LogisticRegression(C=1000.0, random_state=0)\n",
    "lr.fit(X_train_std, y_train)\n",
    "\n",
    "X_combined_std = np.vstack((X_train_std, X_test_std))\n",
    "y_combined = np.hstack((y_train, y_test))\n",
    "\n",
    "plot_decision_regions(X_combined_std, y_combined, classifier=lr,test_idx=range(105,150))\n",
    "\n",
    "plt.xlabel('petal length [standardized]')\n",
    "plt.ylabel('petal width [standardized]')\n",
    "plt.legend(loc='upper left')\n",
    "plt.show()"
   ]
  },
  {
   "cell_type": "code",
   "execution_count": null,
   "metadata": {},
   "outputs": [],
   "source": []
  }
 ],
 "metadata": {
  "kernelspec": {
   "display_name": "Python 2",
   "language": "python",
   "name": "python2"
  },
  "language_info": {
   "codemirror_mode": {
    "name": "ipython",
    "version": 2
   },
   "file_extension": ".py",
   "mimetype": "text/x-python",
   "name": "python",
   "nbconvert_exporter": "python",
   "pygments_lexer": "ipython2",
   "version": "2.7.9"
  }
 },
 "nbformat": 4,
 "nbformat_minor": 2
}
