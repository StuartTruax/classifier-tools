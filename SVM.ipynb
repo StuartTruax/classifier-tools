{
 "cells": [
  {
   "cell_type": "markdown",
   "metadata": {},
   "source": [
    "# Support Vector Machines (SVM)"
   ]
  },
  {
   "cell_type": "markdown",
   "metadata": {},
   "source": [
    "### Theory\n",
    "\n",
    "\n",
    "__Support Vector Machines__ work by finding a _separating hyperplane_\n",
    "\n",
    "\n",
    "$$\\{\\mathbf{x} | \\mathbf{w}^{T}\\mathbf{x} = b\\}$$\n",
    "\n",
    "that separates the decision regions in a space of predictor variables. The _maximum margin separating hyperplane_ has the further property that it has the maximum distance from any training samples $x^{(i)}$. Maximum margin separating hyperplanes are preferred because they have lower generalization error. Finding this hyperplane on a given training set is the implicit optimization objective of the SVM classifier.\n",
    "\n",
    "#### Maximization of the Margin\n",
    "\n",
    "Define two hyperplanes parallel to some decision boundary (how the decision boundary is determined will be shown). Call the two hyperplanes the _positive_ and _negative_ hyperplanes:\n",
    "\n",
    "$$ w_{0}+\\mathbf{w}^{T}\\mathbf{x}_{pos} = 1 $$\n",
    "\n",
    "$$ w_{0}+\\mathbf{w}^{T}\\mathbf{x}_{neg} = -1 $$\n",
    "\n",
    "Subtract the two equations to form:\n",
    "\n",
    "$$ \\mathbf{w}^{T}(\\mathbf{x}_{pos}-\\mathbf{x}_{neg}) = 2 $$\n",
    "\n",
    "Divide both sides of this equation by the $L_{2}$ norm of $\\mathbf{w}$ to obtain:\n",
    "\n",
    "$$ \\frac{\\mathbf{w}^{T}(\\mathbf{x}_{pos}-\\mathbf{x}_{neg})}{||\\mathbf{w}||} = \\frac{2}{||\\mathbf{w}||} $$\n",
    "\n",
    "Maximizing the margin between the negative and positive hyperplanes corresponds to maximizing the LHS of the above equation. Inverting the equation, squaring it, and multiplying by 2 yields the following transformed equation:\n",
    "\n",
    "\n",
    "$$ \\frac{2||\\mathbf{w}||^{2}}{ (\\mathbf{w}^{T}(\\mathbf{x}_{pos}-\\mathbf{x}_{neg}))^{2}} = \\frac{||\\mathbf{w}||^{2}}{2} $$\n",
    "\n",
    "thereby transforming the margin maximization into a quadratic minimization problem. The minimization problem is contrained by the fact that the samples have to be classified correctly. That is:\n",
    "\n",
    "$$ w_{0}+\\mathbf{w}^{T}\\mathbf{x}^{(i)} \\geq 1 \\; if \\; y^{(i)}=1$$\n",
    "\n",
    "$$ w_{0}+\\mathbf{w}^{T}\\mathbf{x}^{(i)} \\leq 1 \\; if \\; y^{(i)}=-1$$\n",
    "\n",
    "or, more compactly:\n",
    "\n",
    "$$ y^{(i)}(w_{0}+\\mathbf{w}^{T}\\mathbf{x}^{(i)}) \\geq 1 \\; \\forall i$$\n",
    "\n",
    "This results in the following quadratic minimization problem statement underlying the SVM classifier:\n",
    "\n",
    "\n",
    "$$minimize \\; \\frac{||\\mathbf{w}||^{2}}{2}$$\n",
    "\n",
    "$$subject \\; to:$$\n",
    "\n",
    "$$y^{(i)}(w_{0}+\\mathbf{w}^{T}\\mathbf{x}^{(i)}) \\geq 1 \\; \\forall i$$\n",
    "\n",
    "#### Soft Margin Classification: Use of Slack Variables to Deal with Misclassifications and Nonlinearly Separable Data\n",
    "\n",
    "Not all data is linearly separable to the extent that hyperplanes are a suitable decision boundary. Some samples may cross such a boundary and be misclassified. One way to still use hyperplanes while accepting a few (penalized) misclassifications is to use a _slack variable_ $\\xi$. The slack variable allows the linear contraints to be relaxed for nonlinearly separable data. \n",
    "\n",
    "Using slack variables, the quadratic minimization problem becomes:\n",
    "\n",
    "$$minimize \\; \\frac{||\\mathbf{w}||^{2}}{2} + C(\\sum_{i} \\xi^{(i)})$$\n",
    "\n",
    "$$subject \\; to:$$\n",
    "\n",
    "$$ \\mathbf{w}^{T}\\mathbf{x}^{(i)} \\geq 1 \\; if \\; y^{(i)}=1-\\xi^{(i)}$$\n",
    "\n",
    "$$ \\mathbf{w}^{T}\\mathbf{x}^{(i)} < -1 \\; if \\; y^{(i)}=1+\\xi^{(i)}$$\n",
    "\n",
    "where $C$ is a _penalty_ or _cost_ associated to the misclassification of samples. Higher $C$ values more heavily penalize misclassifications. $C$ can be used as a tuning parameter to adjust the bias-variance tradeoff for the classifier and control the width of the hyperplane margin. \n",
    "\n",
    "\n"
   ]
  },
  {
   "cell_type": "markdown",
   "metadata": {},
   "source": [
    "### Plotting Utilities"
   ]
  },
  {
   "cell_type": "code",
   "execution_count": 8,
   "metadata": {},
   "outputs": [],
   "source": [
    "import matplotlib.pyplot as plt\n",
    "from matplotlib.colors import ListedColormap\n",
    "\n",
    "def plot_decision_regions(X, y, classifier,test_idx=None, resolution=0.02):\n",
    "    markers = ('s', 'x', 'o', '^', 'v')\n",
    "    colors = ('red', 'blue', 'lightgreen', 'gray', 'cyan')\n",
    "    cmap = ListedColormap(colors[:len(np.unique(y))])\n",
    "\n",
    "       # plot the decision surface\n",
    "    x1_min, x1_max = X[:, 0].min() - 1, X[:, 0].max() + 1\n",
    "    x2_min, x2_max = X[:, 1].min() - 1, X[:, 1].max() + 1\n",
    "    xx1, xx2 = np.meshgrid(np.arange(x1_min, x1_max, resolution),np.arange(x2_min, x2_max, resolution))\n",
    "    Z = classifier.predict(np.array([xx1.ravel(), xx2.ravel()]).T)\n",
    "    Z = Z.reshape(xx1.shape)\n",
    "    plt.contourf(xx1, xx2, Z, alpha=0.4, cmap=cmap)\n",
    "    plt.xlim(xx1.min(), xx1.max())\n",
    "    plt.ylim(xx2.min(), xx2.max())\n",
    "       # plot all samples\n",
    "    X_test, y_test = X[test_idx, :], y[test_idx]\n",
    "    for idx, cl in enumerate(np.unique(y)):\n",
    "        plt.scatter(x=X[y == cl, 0], y=X[y == cl, 1],alpha=0.8, c=cmap(idx),marker=markers[idx], label=cl)\n",
    "\n",
    "    if test_idx:\n",
    "        X_test, y_test = X[test_idx, :], y[test_idx]\n",
    "        plt.scatter(X_test[:, 0], X_test[:, 1], c='',alpha=1.0, linewidth=1, marker='o',s=55, label='test set')"
   ]
  },
  {
   "cell_type": "markdown",
   "metadata": {},
   "source": [
    "### Data Import\n",
    "\n",
    "`iris` dataset from `scikit-learn`"
   ]
  },
  {
   "cell_type": "code",
   "execution_count": 9,
   "metadata": {},
   "outputs": [],
   "source": [
    "from sklearn import datasets\n",
    "import numpy as np\n",
    "iris = datasets.load_iris()\n",
    "X = iris.data[:, [2, 3]]\n",
    "y = iris.target"
   ]
  },
  {
   "cell_type": "markdown",
   "metadata": {},
   "source": [
    "### Cross-validation Dataset Splitting"
   ]
  },
  {
   "cell_type": "code",
   "execution_count": 10,
   "metadata": {},
   "outputs": [],
   "source": [
    "from sklearn.model_selection import train_test_split\n",
    "X_train, X_test, y_train, y_test = train_test_split(X, y, test_size=0.3, random_state=0)\n",
    "\n"
   ]
  },
  {
   "cell_type": "markdown",
   "metadata": {},
   "source": [
    "### Preprocessing"
   ]
  },
  {
   "cell_type": "code",
   "execution_count": 11,
   "metadata": {},
   "outputs": [],
   "source": [
    "from sklearn.preprocessing import StandardScaler\n",
    "sc = StandardScaler()\n",
    "sc.fit(X_train)\n",
    "X_train_std = sc.transform(X_train)\n",
    "X_test_std = sc.transform(X_test)"
   ]
  },
  {
   "cell_type": "markdown",
   "metadata": {},
   "source": [
    "### Classification"
   ]
  },
  {
   "cell_type": "code",
   "execution_count": 12,
   "metadata": {},
   "outputs": [
    {
     "data": {
      "image/png": "[encoded data removed]",
      "text/plain": [
       "<Figure size 432x288 with 1 Axes>"
      ]
     },
     "metadata": {},
     "output_type": "display_data"
    }
   ],
   "source": [
    "from sklearn.svm import SVC\n",
    "svm = SVC(kernel='linear', C=1.0, random_state=0)\n",
    "svm.fit(X_train_std, y_train)\n",
    "\n",
    "X_combined_std = np.vstack((X_train_std, X_test_std))\n",
    "y_combined = np.hstack((y_train, y_test))\n",
    "\n",
    "plot_decision_regions(X_combined_std,y_combined, classifier=svm,test_idx=range(105,150))\n",
    "plt.xlabel('petal length [standardized]')\n",
    "plt.ylabel('petal width [standardized]')\n",
    "plt.legend(loc='upper left')\n",
    "plt.show()"
   ]
  },
  {
   "cell_type": "markdown",
   "metadata": {},
   "source": [
    "### Theory of Kernel SVM \n",
    "\n",
    "Kernel SVM maps the dataset into a higher-dimensional space in which the data is more easily separable by hyperplanes in the new higher-dimensional feature space. The mapping is accomplished by a mapping function $\\phi(\\cdot)$. The classifier may be nonlinear in the lower dimensional space, but $\\phi(\\cdot)$ transforms the classifer into a hyperplane the higher-dimensional space. \n",
    "\n",
    "Whereas in linear SVM relies on the dot product (e.g. $\\mathbf{w}^{T}\\mathbf{x}^{(i)}$), in the higher-dimensional space the dot product is replaced by a _kernel_:\n",
    "\n",
    "$$k(\\mathbf{x}^{(i)},\\mathbf{x}^{(j)}) = \\phi(\\mathbf{x}^{(i)})\\cdot\\phi(\\mathbf{x}^{(j)})$$\n",
    "\n",
    "or, equivalently:\n",
    "\n",
    "$$k(\\mathbf{x}^{(i)},\\mathbf{x}^{(j)}) = \\phi(\\mathbf{x}^{(i)})^{T}\\phi(\\mathbf{x}^{(j)})$$\n",
    "\n",
    "The kernel function $k$ has a functional form that is easier to compute than the dot product $\\phi(\\mathbf{x}^{(i)})\\cdot\\phi(\\mathbf{x}^{(j)})$, which is the main utility of $k$. To fulfill the condition of the above equations, $k$ must be a _positive semi-definite_ transformation (i.e. it must behave like a similarity metric). The exact condition that $k$ must satisfy is called Mercer's condition$^{1}$.\n",
    "\n",
    "One of the most commonly used kernel functions is th __Gaussian Radial Basis function (RBF)__: \n",
    "\n",
    "$$k(\\mathbf{x}^{(i)},\\mathbf{x}^{(j)}) = exp(-\\gamma ||\\mathbf{x}^{(i)} - \\mathbf{x}^{(j)} ||^{2})$$\n",
    "\n",
    "where $\\gamma$ is a free parameter to be optimized. It will be shown that changing $\\gamma$ will make the decision boundaries more \"conformal\" in the the lower-dimensional space (as is shown below). \n",
    "\n",
    "__NB:__ Due to operating in a higher-dimensional feature space, Kernel SVM suffers from increased generalization error relative to linear SVM. However, this can be overcome through then inclusion of more samples in the training set. \n"
   ]
  },
  {
   "cell_type": "markdown",
   "metadata": {},
   "source": [
    "#### Kernel SVM Applied to the Dataset"
   ]
  },
  {
   "cell_type": "code",
   "execution_count": 13,
   "metadata": {},
   "outputs": [
    {
     "data": {
      "image/png": "[encoded data removed]",
      "text/plain": [
       "<Figure size 432x288 with 1 Axes>"
      ]
     },
     "metadata": {},
     "output_type": "display_data"
    }
   ],
   "source": [
    "svm = SVC(kernel='rbf', random_state=0, gamma=0.2, C=1.0)\n",
    "svm.fit(X_train_std, y_train)\n",
    "plot_decision_regions(X_combined_std,y_combined, classifier=svm,test_idx=range(105,150))\n",
    "plt.xlabel('petal length [standardized]')\n",
    "plt.ylabel('petal width [standardized]')\n",
    "plt.legend(loc='upper left')\n",
    "plt.show()\n"
   ]
  },
  {
   "cell_type": "markdown",
   "metadata": {},
   "source": [
    "__NB__: The nonlinear decision boundary."
   ]
  },
  {
   "cell_type": "markdown",
   "metadata": {},
   "source": [
    "#### Increasing $\\gamma$ and its Effect on the Decision Boundary"
   ]
  },
  {
   "cell_type": "code",
   "execution_count": 14,
   "metadata": {},
   "outputs": [
    {
     "data": {
      "image/png": "[encoded data removed]",
      "text/plain": [
       "<Figure size 432x288 with 1 Axes>"
      ]
     },
     "metadata": {},
     "output_type": "display_data"
    }
   ],
   "source": [
    "svm = SVC(kernel='rbf', random_state=0, gamma=100.0, C=1.0)\n",
    "svm.fit(X_train_std, y_train)\n",
    "plot_decision_regions(X_combined_std,y_combined, classifier=svm,test_idx=range(105,150))\n",
    "plt.xlabel('petal length [standardized]')\n",
    "plt.ylabel('petal width [standardized]')\n",
    "plt.legend(loc='upper left')\n",
    "plt.show()"
   ]
  },
  {
   "cell_type": "markdown",
   "metadata": {},
   "source": [
    "### Online Learning with SGDClassifier (TO BE COMPLETED)"
   ]
  },
  {
   "cell_type": "code",
   "execution_count": 15,
   "metadata": {},
   "outputs": [],
   "source": [
    "from sklearn.linear_model import SGDClassifier\n",
    "ppn = SGDClassifier(loss='perceptron')\n",
    "lr = SGDClassifier(loss='log')\n",
    "svm = SGDClassifier(loss='hinge')"
   ]
  },
  {
   "cell_type": "markdown",
   "metadata": {},
   "source": [
    "### References\n",
    "\n",
    "[1] (https://en.wikipedia.org/wiki/Mercer%27s_theorem#Mercer's_condition)"
   ]
  }
 ],
 "metadata": {
  "kernelspec": {
   "display_name": "Python 2",
   "language": "python",
   "name": "python2"
  },
  "language_info": {
   "codemirror_mode": {
    "name": "ipython",
    "version": 2
   },
   "file_extension": ".py",
   "mimetype": "text/x-python",
   "name": "python",
   "nbconvert_exporter": "python",
   "pygments_lexer": "ipython2",
   "version": "2.7.9"
  }
 },
 "nbformat": 4,
 "nbformat_minor": 2
}
