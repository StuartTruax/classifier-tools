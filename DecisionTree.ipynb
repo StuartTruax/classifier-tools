{
 "cells": [
  {
   "cell_type": "markdown",
   "metadata": {},
   "source": [
    "# Decision Tree Classifier\n",
    "\n"
   ]
  },
  {
   "cell_type": "markdown",
   "metadata": {},
   "source": [
    "### Theory\n",
    "\n",
    "Decision tree classifiers produce models by choosing a feature and splitting the dataset according to the values of that feature. This process is repeated until the generated child subsets are either empty, equal to the parent set, or all available features have been used. The final model has a tree structure due to the recursive nature of the splitting, with each \"level\" of the tree associated to the particular feature that is used to split the parent set into its children at that level. \n",
    "\n",
    "At each splitting, the splitting feature is chosen to maximize the __information gain__ of the split. That is, the feature that partitions the parent set into subsets so that the distribution of datapoints amongst the subsets is closest to a uniform distribution (i.e. a maximum entropy distribution). The information gain is generally expressed as:\n",
    "\n",
    "$$ IG(D_p,f) = I(D_p) - \\sum_{j=1}^{m} \\frac{N_j}{N_p}I(D_j) $$\n",
    "\n",
    "where:\n",
    "\n",
    " - $D_p$ is the parent dataset, with cardinality $N_p$\n",
    " - $f$ is the splitting feature\n",
    " - $D_j$ is the dataset of the $j$-th child node under the splitting, with cardinality $N_j$\n",
    " - $I(\\cdot)$ is the __impurity measure__\n",
    " \n",
    "The information gain employs the impurity measure to quantify how \"pure\" the classes of the child nodes are relative to the parent node. Entropy is an apt choice for impurity measure, because a reduction in the entropy of the child nodes relative to the parent node means that that we have generated a marginal distribution in the child nodes that is closer to being uni-modal or single class, which is ultimately what we want in the output of our classifier. \n",
    "\n",
    "##### Inductive Bias\n",
    "\n",
    "The inductive bias of the decision tree algorithm is to produce shorter trees over larger trees, with the features closest to the root having the most information gain. \n",
    "\n",
    "#### Impurity Measures on Binary Classes\n",
    "\n",
    "The following are expressions of several candidate impurity measures on for a decision tree classifier in which the data is labelled according to binary classes (e.g. \"1\" ot \"0\", \"true\" or \"false\", \"+\" or \"-\", etc.). \n",
    "\n",
    "##### Entropy\n",
    "\n",
    "The entropy is defined as the following for binary classes. In this context, one considers a splitting under a feature $t$ to generate a marginal distribution with a binary labelling $i$:\n",
    "\n",
    "$$I_H(t) = \\sum_{i=1}^{c}p(i|t)log_{c}p(i|t)$$\n",
    "\n",
    "where $c=2$ in for binary classes. \n",
    "\n",
    "Information gain based on the entropy favors partitions with small counts and based on many distinct class values. \n",
    "\n",
    "##### Gini Index\n",
    "\n",
    "Gini index can generally be said to measure the \"inequality\" of a disribution. \n",
    "\n",
    "\n",
    "$$I_G(t) = 1-\\sum_{i=1}^{c}p(i|t)^{2}$$\n",
    "\n",
    "\n",
    "Information gain based on Gini index favors larger partitions. However, it generally yields similar results to information gain based on the entropy. \n",
    "\n",
    "##### Classification Error\n",
    "\n",
    "\n",
    "$$I_E(t) = 1-max\\{p(i|t)\\}$$\n",
    "\n",
    "Classification error is recommended for pruning trees, but not for growing trees. It tends to fail in generating pure classes when compared to the information gain based on the entropy or the Gini index. \n",
    "\n",
    "\n",
    "\n"
   ]
  },
  {
   "cell_type": "markdown",
   "metadata": {},
   "source": [
    "### Plotting Utilities"
   ]
  },
  {
   "cell_type": "code",
   "execution_count": 14,
   "metadata": {},
   "outputs": [],
   "source": [
    "import matplotlib.pyplot as plt\n",
    "from matplotlib.colors import ListedColormap\n",
    "\n",
    "def plot_decision_regions(X, y, classifier,test_idx=None, resolution=0.02):\n",
    "    markers = ('s', 'x', 'o', '^', 'v')\n",
    "    colors = ('red', 'blue', 'lightgreen', 'gray', 'cyan')\n",
    "    cmap = ListedColormap(colors[:len(np.unique(y))])\n",
    "\n",
    "       # plot the decision surface\n",
    "    x1_min, x1_max = X[:, 0].min() - 1, X[:, 0].max() + 1\n",
    "    x2_min, x2_max = X[:, 1].min() - 1, X[:, 1].max() + 1\n",
    "    xx1, xx2 = np.meshgrid(np.arange(x1_min, x1_max, resolution),np.arange(x2_min, x2_max, resolution))\n",
    "    Z = classifier.predict(np.array([xx1.ravel(), xx2.ravel()]).T)\n",
    "    Z = Z.reshape(xx1.shape)\n",
    "    plt.contourf(xx1, xx2, Z, alpha=0.4, cmap=cmap)\n",
    "    plt.xlim(xx1.min(), xx1.max())\n",
    "    plt.ylim(xx2.min(), xx2.max())\n",
    "       # plot all samples\n",
    "    X_test, y_test = X[test_idx, :], y[test_idx]\n",
    "    for idx, cl in enumerate(np.unique(y)):\n",
    "        plt.scatter(x=X[y == cl, 0], y=X[y == cl, 1],alpha=0.8, c=cmap(idx),marker=markers[idx], label=cl)\n",
    "\n",
    "    if test_idx:\n",
    "        X_test, y_test = X[test_idx, :], y[test_idx]\n",
    "        plt.scatter(X_test[:, 0], X_test[:, 1], c='',alpha=1.0, linewidth=1, marker='o',s=55, label='test set')"
   ]
  },
  {
   "cell_type": "markdown",
   "metadata": {},
   "source": [
    "### Data Import\n",
    "\n",
    "`iris` dataset from `scikit-learn`"
   ]
  },
  {
   "cell_type": "code",
   "execution_count": 15,
   "metadata": {},
   "outputs": [],
   "source": [
    "from sklearn import datasets\n",
    "import numpy as np\n",
    "iris = datasets.load_iris()\n",
    "X = iris.data[:, [2, 3]]\n",
    "y = iris.target"
   ]
  },
  {
   "cell_type": "markdown",
   "metadata": {},
   "source": [
    "### Cross-validation Dataset Splitting"
   ]
  },
  {
   "cell_type": "code",
   "execution_count": 16,
   "metadata": {},
   "outputs": [],
   "source": [
    "from sklearn.model_selection import train_test_split\n",
    "X_train, X_test, y_train, y_test = train_test_split(X, y, test_size=0.3, random_state=0)\n"
   ]
  },
  {
   "cell_type": "markdown",
   "metadata": {},
   "source": [
    "### Classification"
   ]
  },
  {
   "cell_type": "code",
   "execution_count": 17,
   "metadata": {},
   "outputs": [
    {
     "data": {
      "image/png": "[encoded data removed]",
      "text/plain": [
       "<Figure size 432x288 with 1 Axes>"
      ]
     },
     "metadata": {},
     "output_type": "display_data"
    }
   ],
   "source": [
    "from sklearn.tree import DecisionTreeClassifier\n",
    "\n",
    "tree = DecisionTreeClassifier(criterion='entropy',max_depth=3, random_state=0)\n",
    "tree.fit(X_train, y_train)\n",
    "X_combined = np.vstack((X_train, X_test))\n",
    "y_combined = np.hstack((y_train, y_test))\n",
    "plot_decision_regions(X_combined, y_combined,classifier=tree, test_idx=range(105,150))"
   ]
  },
  {
   "cell_type": "markdown",
   "metadata": {},
   "source": [
    "## Classification Improvement: Random Forests\n",
    "\n",
    "#### Theory of Random Forests\n",
    "\n",
    "The classification of a single decision tree can be improved by using an _ensemble_ of decision trees. Random forests are such an ensemble, and are generated according to the following algorithm:\n",
    "\n",
    " - $for \\space i=1...k$:\n",
    "     - Randomly choose $n$ samples from the training set with replacement (i.e. a __bootstrap__ sample of size $n$)\n",
    "     - Grow a decision tree from the bootstrap sample. At each node:\n",
    "         - Randomly select $d$ features without replacement (typically $d=\\sqrt{m}$)\n",
    "         - Split the node using the feature that maximizes information gain. \n",
    " - Aggregate the prediction by each tree to assign the class label by __majority vote__.\n",
    " \n",
    " \n",
    "Random forests have the advantage of generating robust models with good generalization error, reduced overfitting, and a reduced need for pruning.\n"
   ]
  },
  {
   "cell_type": "code",
   "execution_count": 13,
   "metadata": {},
   "outputs": [
    {
     "data": {
      "image/png": "[encoded data removed]",
      "text/plain": [
       "<Figure size 432x288 with 1 Axes>"
      ]
     },
     "metadata": {},
     "output_type": "display_data"
    }
   ],
   "source": [
    "from sklearn.ensemble import RandomForestClassifier\n",
    "\n",
    "forest = RandomForestClassifier(criterion='entropy',n_estimators=10,random_state=1,n_jobs=2)\n",
    "forest.fit(X_train, y_train)\n",
    "\n",
    "plot_decision_regions(X_combined, y_combined,classifier=forest, test_idx=range(105,150))\n",
    "plt.xlabel('petal length')\n",
    "plt.ylabel('petal width')\n",
    "plt.legend(loc='upper left')\n",
    "plt.show()"
   ]
  },
  {
   "cell_type": "code",
   "execution_count": null,
   "metadata": {},
   "outputs": [],
   "source": []
  }
 ],
 "metadata": {
  "kernelspec": {
   "display_name": "Python 2",
   "language": "python",
   "name": "python2"
  },
  "language_info": {
   "codemirror_mode": {
    "name": "ipython",
    "version": 2
   },
   "file_extension": ".py",
   "mimetype": "text/x-python",
   "name": "python",
   "nbconvert_exporter": "python",
   "pygments_lexer": "ipython2",
   "version": "2.7.9"
  }
 },
 "nbformat": 4,
 "nbformat_minor": 2
}
